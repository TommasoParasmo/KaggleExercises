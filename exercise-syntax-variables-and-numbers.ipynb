{
 "cells": [
  {
   "cell_type": "markdown",
   "id": "633bdb67",
   "metadata": {
    "papermill": {
     "duration": 0.010179,
     "end_time": "2023-05-15T01:42:46.164319",
     "exception": false,
     "start_time": "2023-05-15T01:42:46.154140",
     "status": "completed"
    },
    "tags": []
   },
   "source": [
    "**This notebook is an exercise in the [Python](https://www.kaggle.com/learn/python) course.  You can reference the tutorial at [this link](https://www.kaggle.com/colinmorris/hello-python).**\n",
    "\n",
    "---\n"
   ]
  },
  {
   "cell_type": "markdown",
   "id": "62e19527",
   "metadata": {
    "papermill": {
     "duration": 0.010355,
     "end_time": "2023-05-15T01:42:46.185531",
     "exception": false,
     "start_time": "2023-05-15T01:42:46.175176",
     "status": "completed"
    },
    "tags": []
   },
   "source": [
    "Welcome to your first set of Python coding problems.  If this is your first time using Kaggle Notebooks, welcome! \n",
    "\n",
    "Notebooks are composed of blocks (called \"cells\") of text and code. Each of these is editable, though you'll mainly be editing the code cells to answer some questions.\n",
    "\n",
    "To get started, try running the code cell below (by pressing the ► button, or clicking on the cell and pressing ctrl+enter on your keyboard)."
   ]
  },
  {
   "cell_type": "code",
   "execution_count": 1,
   "id": "f19d785c",
   "metadata": {
    "execution": {
     "iopub.execute_input": "2023-05-15T01:42:46.204830Z",
     "iopub.status.busy": "2023-05-15T01:42:46.204320Z",
     "iopub.status.idle": "2023-05-15T01:42:46.224173Z",
     "shell.execute_reply": "2023-05-15T01:42:46.221424Z"
    },
    "papermill": {
     "duration": 0.032049,
     "end_time": "2023-05-15T01:42:46.226587",
     "exception": false,
     "start_time": "2023-05-15T01:42:46.194538",
     "status": "completed"
    },
    "tags": []
   },
   "outputs": [
    {
     "name": "stdout",
     "output_type": "stream",
     "text": [
      "You've successfully run some Python code\n",
      "Congratulations!\n"
     ]
    }
   ],
   "source": [
    "print(\"You've successfully run some Python code\")\n",
    "print(\"Congratulations!\")"
   ]
  },
  {
   "cell_type": "markdown",
   "id": "1e215428",
   "metadata": {
    "papermill": {
     "duration": 0.008154,
     "end_time": "2023-05-15T01:42:46.243488",
     "exception": false,
     "start_time": "2023-05-15T01:42:46.235334",
     "status": "completed"
    },
    "tags": []
   },
   "source": [
    "Try adding another line of code in the cell above and re-running it. \n",
    "\n",
    "Now let's get a little fancier:  Add a new code cell by clicking on an existing code cell, hitting the escape key, and then hitting the `a` or `b` key.  The `a` key will add a cell above the current cell, and `b` adds a cell below.\n",
    "\n",
    "Great! Now you know how to use Notebooks.\n",
    "\n",
    "Each hands-on exercise starts by setting up our feedback and code checking mechanism. Run the code cell below to do that. Then you'll be ready to move on to question 0."
   ]
  },
  {
   "cell_type": "code",
   "execution_count": 2,
   "id": "b17a09c4",
   "metadata": {
    "_kg_hide-input": true,
    "_kg_hide-output": true,
    "execution": {
     "iopub.execute_input": "2023-05-15T01:42:46.262302Z",
     "iopub.status.busy": "2023-05-15T01:42:46.261821Z",
     "iopub.status.idle": "2023-05-15T01:42:46.300577Z",
     "shell.execute_reply": "2023-05-15T01:42:46.299181Z"
    },
    "papermill": {
     "duration": 0.050929,
     "end_time": "2023-05-15T01:42:46.302879",
     "exception": false,
     "start_time": "2023-05-15T01:42:46.251950",
     "status": "completed"
    },
    "tags": []
   },
   "outputs": [
    {
     "name": "stdout",
     "output_type": "stream",
     "text": [
      "Setup complete! You're ready to start question 0.\n"
     ]
    }
   ],
   "source": [
    "from learntools.core import binder; binder.bind(globals())\n",
    "from learntools.python.ex1 import *\n",
    "print(\"Setup complete! You're ready to start question 0.\")"
   ]
  },
  {
   "cell_type": "markdown",
   "id": "2f2f1c91",
   "metadata": {
    "papermill": {
     "duration": 0.008326,
     "end_time": "2023-05-15T01:42:46.319851",
     "exception": false,
     "start_time": "2023-05-15T01:42:46.311525",
     "status": "completed"
    },
    "tags": []
   },
   "source": [
    "# 0.\n",
    "\n",
    "*This is a silly question intended as an introduction to the format we use for hands-on exercises throughout all Kaggle courses.*\n",
    "\n",
    "**What is your favorite color? **\n",
    "\n",
    "To complete this question, create a variable called `color` in the cell below with an appropriate value. The function call `q0.check()` (which we've already provided in the cell below) will check your answer."
   ]
  },
  {
   "cell_type": "code",
   "execution_count": 3,
   "id": "d013d86f",
   "metadata": {
    "execution": {
     "iopub.execute_input": "2023-05-15T01:42:46.338354Z",
     "iopub.status.busy": "2023-05-15T01:42:46.337963Z",
     "iopub.status.idle": "2023-05-15T01:42:46.346478Z",
     "shell.execute_reply": "2023-05-15T01:42:46.345659Z"
    },
    "papermill": {
     "duration": 0.020206,
     "end_time": "2023-05-15T01:42:46.348520",
     "exception": false,
     "start_time": "2023-05-15T01:42:46.328314",
     "status": "completed"
    },
    "tags": []
   },
   "outputs": [
    {
     "data": {
      "application/javascript": [
       "parent.postMessage({\"jupyterEvent\": \"custom.exercise_interaction\", \"data\": {\"outcomeType\": 1, \"valueTowardsCompletion\": 0.25, \"interactionType\": 1, \"questionType\": 2, \"questionId\": \"0_ExerciseFormatTutorial\", \"learnToolsVersion\": \"0.3.4\", \"failureMessage\": \"\", \"exceptionClass\": \"\", \"trace\": \"\"}}, \"*\")"
      ],
      "text/plain": [
       "<IPython.core.display.Javascript object>"
      ]
     },
     "metadata": {},
     "output_type": "display_data"
    },
    {
     "data": {
      "text/markdown": [
       "<span style=\"color:#33cc33\">Correct:</span> What?! You got it right without needing a hint or anything? Drats. Well hey, you should still continue to the next step to get some practice asking for a hint and checking solutions. (Even though you obviously don't need any help here.)"
      ],
      "text/plain": [
       "Correct: What?! You got it right without needing a hint or anything? Drats. Well hey, you should still continue to the next step to get some practice asking for a hint and checking solutions. (Even though you obviously don't need any help here.)"
      ]
     },
     "metadata": {},
     "output_type": "display_data"
    }
   ],
   "source": [
    "# create a variable called color with an appropriate value on the line below\n",
    "# (Remember, strings in Python must be enclosed in 'single' or \"double\" quotes)\n",
    "color = \"blue\"\n",
    "\n",
    "# Check your answer\n",
    "q0.check()"
   ]
  },
  {
   "cell_type": "markdown",
   "id": "ee5f6f35",
   "metadata": {
    "papermill": {
     "duration": 0.009072,
     "end_time": "2023-05-15T01:42:46.366831",
     "exception": false,
     "start_time": "2023-05-15T01:42:46.357759",
     "status": "completed"
    },
    "tags": []
   },
   "source": [
    "Didn't get the right answer? How do you not even know your own favorite color?!\n",
    "\n",
    "Delete the `#` in the line below to make one of the lines run. You can choose between getting a hint or the full answer by choosing which line to remove the `#` from. \n",
    "\n",
    "Removing the `#` is called uncommenting, because it changes that line from a \"comment\" which Python doesn't run to code, which Python does run."
   ]
  },
  {
   "cell_type": "code",
   "execution_count": 4,
   "id": "f99d0c7f",
   "metadata": {
    "execution": {
     "iopub.execute_input": "2023-05-15T01:42:46.386624Z",
     "iopub.status.busy": "2023-05-15T01:42:46.386237Z",
     "iopub.status.idle": "2023-05-15T01:42:46.390246Z",
     "shell.execute_reply": "2023-05-15T01:42:46.389149Z"
    },
    "papermill": {
     "duration": 0.017106,
     "end_time": "2023-05-15T01:42:46.392898",
     "exception": false,
     "start_time": "2023-05-15T01:42:46.375792",
     "status": "completed"
    },
    "tags": []
   },
   "outputs": [],
   "source": [
    "#q0.hint()\n",
    "#q0.solution()"
   ]
  },
  {
   "cell_type": "markdown",
   "id": "fce33c41",
   "metadata": {
    "papermill": {
     "duration": 0.008775,
     "end_time": "2023-05-15T01:42:46.410797",
     "exception": false,
     "start_time": "2023-05-15T01:42:46.402022",
     "status": "completed"
    },
    "tags": []
   },
   "source": [
    "The upcoming questions work the same way. The only thing that will change are the question numbers. For the next question, you'll call `q1.check()`, `q1.hint()`, `q1.solution()`, for question 2, you'll call `q2.check()`, and so on."
   ]
  },
  {
   "cell_type": "markdown",
   "id": "48551bc6",
   "metadata": {
    "papermill": {
     "duration": 0.008664,
     "end_time": "2023-05-15T01:42:46.428894",
     "exception": false,
     "start_time": "2023-05-15T01:42:46.420230",
     "status": "completed"
    },
    "tags": []
   },
   "source": [
    "<hr/>\n",
    "\n",
    "# 1.\n",
    "\n",
    "Complete the code below. In case it's helpful, here is the table of available arithmetic operations:\n",
    "\n",
    "\n",
    "\n",
    "| Operator     | Name           | Description                                            |\n",
    "|--------------|----------------|--------------------------------------------------------|\n",
    "| ``a + b``    | Addition       | Sum of ``a`` and ``b``                                 |\n",
    "| ``a - b``    | Subtraction    | Difference of ``a`` and ``b``                          |\n",
    "| ``a * b``    | Multiplication | Product of ``a`` and ``b``                             |\n",
    "| ``a / b``    | True division  | Quotient of ``a`` and ``b``                            |\n",
    "| ``a // b``   | Floor division | Quotient of ``a`` and ``b``, removing fractional parts |\n",
    "| ``a % b``    | Modulus        | Integer remainder after division of ``a`` by ``b``     |\n",
    "| ``a ** b``   | Exponentiation | ``a`` raised to the power of ``b``                     |\n",
    "| ``-a``       | Negation       | The negative of ``a``                                  |\n",
    "\n",
    "<span style=\"display:none\"></span>\n"
   ]
  },
  {
   "cell_type": "code",
   "execution_count": 5,
   "id": "63663864",
   "metadata": {
    "execution": {
     "iopub.execute_input": "2023-05-15T01:42:46.449057Z",
     "iopub.status.busy": "2023-05-15T01:42:46.448666Z",
     "iopub.status.idle": "2023-05-15T01:42:46.458301Z",
     "shell.execute_reply": "2023-05-15T01:42:46.457075Z"
    },
    "papermill": {
     "duration": 0.022725,
     "end_time": "2023-05-15T01:42:46.460724",
     "exception": false,
     "start_time": "2023-05-15T01:42:46.437999",
     "status": "completed"
    },
    "tags": []
   },
   "outputs": [
    {
     "data": {
      "application/javascript": [
       "parent.postMessage({\"jupyterEvent\": \"custom.exercise_interaction\", \"data\": {\"outcomeType\": 1, \"valueTowardsCompletion\": 0.25, \"interactionType\": 1, \"questionType\": 1, \"questionId\": \"1_CircleArea\", \"learnToolsVersion\": \"0.3.4\", \"failureMessage\": \"\", \"exceptionClass\": \"\", \"trace\": \"\"}}, \"*\")"
      ],
      "text/plain": [
       "<IPython.core.display.Javascript object>"
      ]
     },
     "metadata": {},
     "output_type": "display_data"
    },
    {
     "data": {
      "text/markdown": [
       "<span style=\"color:#33cc33\">Correct</span>"
      ],
      "text/plain": [
       "Correct"
      ]
     },
     "metadata": {},
     "output_type": "display_data"
    }
   ],
   "source": [
    "pi = 3.14159 # approximate\n",
    "diameter = 3\n",
    "\n",
    "# Create a variable called 'radius' equal to half the diameter\n",
    "\n",
    "radius = diameter / 2\n",
    "\n",
    "# Create a variable called 'area', using the formula for the area of a circle: pi times the radius squared\n",
    "\n",
    "area = pi * (radius * radius)\n",
    "\n",
    "\n",
    "# Check your answer\n",
    "q1.check()"
   ]
  },
  {
   "cell_type": "code",
   "execution_count": 6,
   "id": "93edc30c",
   "metadata": {
    "execution": {
     "iopub.execute_input": "2023-05-15T01:42:46.481773Z",
     "iopub.status.busy": "2023-05-15T01:42:46.481372Z",
     "iopub.status.idle": "2023-05-15T01:42:46.486033Z",
     "shell.execute_reply": "2023-05-15T01:42:46.484903Z"
    },
    "papermill": {
     "duration": 0.018117,
     "end_time": "2023-05-15T01:42:46.488484",
     "exception": false,
     "start_time": "2023-05-15T01:42:46.470367",
     "status": "completed"
    },
    "tags": []
   },
   "outputs": [],
   "source": [
    "# Uncomment and run the lines below if you need help.\n",
    "#q1.hint()\n",
    "#q1.solution()"
   ]
  },
  {
   "cell_type": "markdown",
   "id": "d2e7d423",
   "metadata": {
    "papermill": {
     "duration": 0.00901,
     "end_time": "2023-05-15T01:42:46.506965",
     "exception": false,
     "start_time": "2023-05-15T01:42:46.497955",
     "status": "completed"
    },
    "tags": []
   },
   "source": [
    "<hr/>\n",
    "\n",
    "# 2.\n",
    "\n",
    "Add code to the following cell to swap variables `a` and `b` (so that `a` refers to the object previously referred to by `b` and vice versa)."
   ]
  },
  {
   "cell_type": "code",
   "execution_count": 7,
   "id": "d8937d34",
   "metadata": {
    "execution": {
     "iopub.execute_input": "2023-05-15T01:42:46.527284Z",
     "iopub.status.busy": "2023-05-15T01:42:46.526865Z",
     "iopub.status.idle": "2023-05-15T01:42:46.539313Z",
     "shell.execute_reply": "2023-05-15T01:42:46.538141Z"
    },
    "papermill": {
     "duration": 0.025499,
     "end_time": "2023-05-15T01:42:46.541739",
     "exception": false,
     "start_time": "2023-05-15T01:42:46.516240",
     "status": "completed"
    },
    "tags": []
   },
   "outputs": [
    {
     "name": "stdout",
     "output_type": "stream",
     "text": [
      "\n"
     ]
    },
    {
     "data": {
      "application/javascript": [
       "parent.postMessage({\"jupyterEvent\": \"custom.exercise_interaction\", \"data\": {\"outcomeType\": 1, \"valueTowardsCompletion\": 0.25, \"interactionType\": 1, \"questionType\": 2, \"questionId\": \"2_VariableSwap\", \"learnToolsVersion\": \"0.3.4\", \"failureMessage\": \"\", \"exceptionClass\": \"\", \"trace\": \"\"}}, \"*\")"
      ],
      "text/plain": [
       "<IPython.core.display.Javascript object>"
      ]
     },
     "metadata": {},
     "output_type": "display_data"
    },
    {
     "data": {
      "text/markdown": [
       "<span style=\"color:#33cc33\">Correct:</span> \n",
       "\n",
       "The most straightforward solution is to use a third variable to temporarily store one of the old values. e.g.:\n",
       "\n",
       "    tmp = a\n",
       "    a = b\n",
       "    b = tmp\n",
       "\n",
       "If you've read lots of Python code, you might have seen the following trick to swap two variables in one line:\n",
       "\n",
       "    a, b = b, a\n",
       "\n",
       "We'll demystify this bit of Python magic later when we talk about *tuples*."
      ],
      "text/plain": [
       "Correct: \n",
       "\n",
       "The most straightforward solution is to use a third variable to temporarily store one of the old values. e.g.:\n",
       "\n",
       "    tmp = a\n",
       "    a = b\n",
       "    b = tmp\n",
       "\n",
       "If you've read lots of Python code, you might have seen the following trick to swap two variables in one line:\n",
       "\n",
       "    a, b = b, a\n",
       "\n",
       "We'll demystify this bit of Python magic later when we talk about *tuples*."
      ]
     },
     "metadata": {},
     "output_type": "display_data"
    }
   ],
   "source": [
    "########### Setup code - don't touch this part ######################\n",
    "# If you're curious, these are examples of lists. We'll talk about \n",
    "# them in depth a few lessons from now. For now, just know that they're\n",
    "# yet another type of Python object, like int or float.\n",
    "a = [1, 2, 3]\n",
    "b = [3, 2, 1]\n",
    "q2.store_original_ids()\n",
    "######################################################################\n",
    "\n",
    "# Your code goes here. Swap the values to which a and b refer.\n",
    "# If you get stuck, you can always uncomment one or both of the lines in\n",
    "# the next cell for a hint, or to peek at the solution.\n",
    "\n",
    "c = a\n",
    "d = b\n",
    "a = d\n",
    "b = c\n",
    "print()\n",
    "\n",
    "######################################################################\n",
    "\n",
    "# Check your answer\n",
    "q2.check()"
   ]
  },
  {
   "cell_type": "code",
   "execution_count": 8,
   "id": "047349e8",
   "metadata": {
    "execution": {
     "iopub.execute_input": "2023-05-15T01:42:46.563871Z",
     "iopub.status.busy": "2023-05-15T01:42:46.563444Z",
     "iopub.status.idle": "2023-05-15T01:42:46.568013Z",
     "shell.execute_reply": "2023-05-15T01:42:46.566824Z"
    },
    "papermill": {
     "duration": 0.018423,
     "end_time": "2023-05-15T01:42:46.570658",
     "exception": false,
     "start_time": "2023-05-15T01:42:46.552235",
     "status": "completed"
    },
    "tags": []
   },
   "outputs": [],
   "source": [
    "#q2.hint()"
   ]
  },
  {
   "cell_type": "code",
   "execution_count": 9,
   "id": "7412f4e1",
   "metadata": {
    "execution": {
     "iopub.execute_input": "2023-05-15T01:42:46.592583Z",
     "iopub.status.busy": "2023-05-15T01:42:46.592188Z",
     "iopub.status.idle": "2023-05-15T01:42:46.597211Z",
     "shell.execute_reply": "2023-05-15T01:42:46.595935Z"
    },
    "papermill": {
     "duration": 0.018892,
     "end_time": "2023-05-15T01:42:46.599803",
     "exception": false,
     "start_time": "2023-05-15T01:42:46.580911",
     "status": "completed"
    },
    "tags": []
   },
   "outputs": [],
   "source": [
    "#q2.solution()"
   ]
  },
  {
   "cell_type": "markdown",
   "id": "5fb3d2ef",
   "metadata": {
    "papermill": {
     "duration": 0.009533,
     "end_time": "2023-05-15T01:42:46.619240",
     "exception": false,
     "start_time": "2023-05-15T01:42:46.609707",
     "status": "completed"
    },
    "tags": []
   },
   "source": [
    "<hr/>\n",
    "\n",
    "# 3a.\n",
    "\n",
    "Add parentheses to the following expression so that it evaluates to 1."
   ]
  },
  {
   "cell_type": "code",
   "execution_count": 10,
   "id": "279a4ecd",
   "metadata": {
    "execution": {
     "iopub.execute_input": "2023-05-15T01:42:46.640604Z",
     "iopub.status.busy": "2023-05-15T01:42:46.640205Z",
     "iopub.status.idle": "2023-05-15T01:42:46.647014Z",
     "shell.execute_reply": "2023-05-15T01:42:46.645934Z"
    },
    "papermill": {
     "duration": 0.020521,
     "end_time": "2023-05-15T01:42:46.649534",
     "exception": false,
     "start_time": "2023-05-15T01:42:46.629013",
     "status": "completed"
    },
    "tags": []
   },
   "outputs": [
    {
     "data": {
      "text/plain": [
       "1"
      ]
     },
     "execution_count": 10,
     "metadata": {},
     "output_type": "execute_result"
    }
   ],
   "source": [
    "(5 - 3) // 2"
   ]
  },
  {
   "cell_type": "code",
   "execution_count": 11,
   "id": "39e398c7",
   "metadata": {
    "execution": {
     "iopub.execute_input": "2023-05-15T01:42:46.671565Z",
     "iopub.status.busy": "2023-05-15T01:42:46.670954Z",
     "iopub.status.idle": "2023-05-15T01:42:46.675614Z",
     "shell.execute_reply": "2023-05-15T01:42:46.674571Z"
    },
    "papermill": {
     "duration": 0.018104,
     "end_time": "2023-05-15T01:42:46.677844",
     "exception": false,
     "start_time": "2023-05-15T01:42:46.659740",
     "status": "completed"
    },
    "tags": []
   },
   "outputs": [],
   "source": [
    "#q3.a.hint()"
   ]
  },
  {
   "cell_type": "code",
   "execution_count": 12,
   "id": "09daddd1",
   "metadata": {
    "execution": {
     "iopub.execute_input": "2023-05-15T01:42:46.699474Z",
     "iopub.status.busy": "2023-05-15T01:42:46.699073Z",
     "iopub.status.idle": "2023-05-15T01:42:46.707836Z",
     "shell.execute_reply": "2023-05-15T01:42:46.706808Z"
    },
    "papermill": {
     "duration": 0.02226,
     "end_time": "2023-05-15T01:42:46.710137",
     "exception": false,
     "start_time": "2023-05-15T01:42:46.687877",
     "status": "completed"
    },
    "tags": []
   },
   "outputs": [
    {
     "data": {
      "application/javascript": [
       "parent.postMessage({\"jupyterEvent\": \"custom.exercise_interaction\", \"data\": {\"interactionType\": 3, \"questionType\": 4, \"questionId\": \"3.1_ArithmeticParensEasy\", \"learnToolsVersion\": \"0.3.4\", \"valueTowardsCompletion\": 0.0, \"failureMessage\": \"\", \"exceptionClass\": \"\", \"trace\": \"\", \"outcomeType\": 4}}, \"*\")"
      ],
      "text/plain": [
       "<IPython.core.display.Javascript object>"
      ]
     },
     "metadata": {},
     "output_type": "display_data"
    },
    {
     "data": {
      "text/markdown": [
       "<span style=\"color:#33cc99\">Solution:</span> \n",
       "```python\n",
       "(5 - 3) // 2\n",
       "```"
      ],
      "text/plain": [
       "Solution: \n",
       "```python\n",
       "(5 - 3) // 2\n",
       "```"
      ]
     },
     "metadata": {},
     "output_type": "display_data"
    }
   ],
   "source": [
    "# Check your answer (Run this code cell to receive credit!)\n",
    "q3.a.solution()"
   ]
  },
  {
   "cell_type": "markdown",
   "id": "acaade3a",
   "metadata": {
    "papermill": {
     "duration": 0.010084,
     "end_time": "2023-05-15T01:42:46.730616",
     "exception": false,
     "start_time": "2023-05-15T01:42:46.720532",
     "status": "completed"
    },
    "tags": []
   },
   "source": [
    "# 3b.  <span title=\"A bit spicy\" style=\"color: darkgreen \">🌶️</span>\n",
    "\n",
    "<small>Questions, like this one, marked a spicy pepper are a bit harder.</small>\n",
    "\n",
    "Add parentheses to the following expression so that it evaluates to 0."
   ]
  },
  {
   "cell_type": "code",
   "execution_count": 13,
   "id": "409aa622",
   "metadata": {
    "execution": {
     "iopub.execute_input": "2023-05-15T01:42:46.753675Z",
     "iopub.status.busy": "2023-05-15T01:42:46.753267Z",
     "iopub.status.idle": "2023-05-15T01:42:46.760280Z",
     "shell.execute_reply": "2023-05-15T01:42:46.758951Z"
    },
    "papermill": {
     "duration": 0.021112,
     "end_time": "2023-05-15T01:42:46.762418",
     "exception": false,
     "start_time": "2023-05-15T01:42:46.741306",
     "status": "completed"
    },
    "tags": []
   },
   "outputs": [
    {
     "data": {
      "text/plain": [
       "0"
      ]
     },
     "execution_count": 13,
     "metadata": {},
     "output_type": "execute_result"
    }
   ],
   "source": [
    "8 - (3 * 2) - (1 + 1)"
   ]
  },
  {
   "cell_type": "code",
   "execution_count": 14,
   "id": "771384f1",
   "metadata": {
    "execution": {
     "iopub.execute_input": "2023-05-15T01:42:46.785297Z",
     "iopub.status.busy": "2023-05-15T01:42:46.784887Z",
     "iopub.status.idle": "2023-05-15T01:42:46.789435Z",
     "shell.execute_reply": "2023-05-15T01:42:46.788264Z"
    },
    "papermill": {
     "duration": 0.018618,
     "end_time": "2023-05-15T01:42:46.791645",
     "exception": false,
     "start_time": "2023-05-15T01:42:46.773027",
     "status": "completed"
    },
    "tags": []
   },
   "outputs": [],
   "source": [
    "#q3.b.hint()"
   ]
  },
  {
   "cell_type": "code",
   "execution_count": 15,
   "id": "ca71494e",
   "metadata": {
    "execution": {
     "iopub.execute_input": "2023-05-15T01:42:46.814741Z",
     "iopub.status.busy": "2023-05-15T01:42:46.814312Z",
     "iopub.status.idle": "2023-05-15T01:42:46.823240Z",
     "shell.execute_reply": "2023-05-15T01:42:46.822174Z"
    },
    "papermill": {
     "duration": 0.023177,
     "end_time": "2023-05-15T01:42:46.825522",
     "exception": false,
     "start_time": "2023-05-15T01:42:46.802345",
     "status": "completed"
    },
    "tags": []
   },
   "outputs": [
    {
     "data": {
      "application/javascript": [
       "parent.postMessage({\"jupyterEvent\": \"custom.exercise_interaction\", \"data\": {\"interactionType\": 3, \"questionType\": 4, \"questionId\": \"3.2_ArithmeticParensHard\", \"learnToolsVersion\": \"0.3.4\", \"valueTowardsCompletion\": 0.0, \"failureMessage\": \"\", \"exceptionClass\": \"\", \"trace\": \"\", \"outcomeType\": 4}}, \"*\")"
      ],
      "text/plain": [
       "<IPython.core.display.Javascript object>"
      ]
     },
     "metadata": {},
     "output_type": "display_data"
    },
    {
     "data": {
      "text/markdown": [
       "<span style=\"color:#33cc99\">Solution:</span> `(8 - 3) * (2 - (1 + 1))` is one solution. There may be others."
      ],
      "text/plain": [
       "Solution: `(8 - 3) * (2 - (1 + 1))` is one solution. There may be others."
      ]
     },
     "metadata": {},
     "output_type": "display_data"
    }
   ],
   "source": [
    "# Check your answer (Run this code cell to receive credit!)\n",
    "q3.b.solution()"
   ]
  },
  {
   "cell_type": "markdown",
   "id": "c684981c",
   "metadata": {
    "papermill": {
     "duration": 0.010621,
     "end_time": "2023-05-15T01:42:46.847143",
     "exception": false,
     "start_time": "2023-05-15T01:42:46.836522",
     "status": "completed"
    },
    "tags": []
   },
   "source": [
    "<hr/>\n",
    "\n",
    "# 4. \n",
    "Alice, Bob and Carol have agreed to pool their Halloween candy and split it evenly among themselves.\n",
    "For the sake of their friendship, any candies left over will be smashed. For example, if they collectively\n",
    "bring home 91 candies, they'll take 30 each and smash 1.\n",
    "\n",
    "Write an arithmetic expression below to calculate how many candies they must smash for a given haul."
   ]
  },
  {
   "cell_type": "code",
   "execution_count": 16,
   "id": "c6ce2664",
   "metadata": {
    "execution": {
     "iopub.execute_input": "2023-05-15T01:42:46.870499Z",
     "iopub.status.busy": "2023-05-15T01:42:46.870112Z",
     "iopub.status.idle": "2023-05-15T01:42:46.879922Z",
     "shell.execute_reply": "2023-05-15T01:42:46.878881Z"
    },
    "papermill": {
     "duration": 0.024476,
     "end_time": "2023-05-15T01:42:46.882491",
     "exception": false,
     "start_time": "2023-05-15T01:42:46.858015",
     "status": "completed"
    },
    "tags": []
   },
   "outputs": [
    {
     "data": {
      "application/javascript": [
       "parent.postMessage({\"jupyterEvent\": \"custom.exercise_interaction\", \"data\": {\"outcomeType\": 1, \"valueTowardsCompletion\": 0.25, \"interactionType\": 1, \"questionType\": 1, \"questionId\": \"4_CandySplitting\", \"learnToolsVersion\": \"0.3.4\", \"failureMessage\": \"\", \"exceptionClass\": \"\", \"trace\": \"\"}}, \"*\")"
      ],
      "text/plain": [
       "<IPython.core.display.Javascript object>"
      ]
     },
     "metadata": {},
     "output_type": "display_data"
    },
    {
     "data": {
      "text/markdown": [
       "<span style=\"color:#33cc33\">Correct</span>"
      ],
      "text/plain": [
       "Correct"
      ]
     },
     "metadata": {},
     "output_type": "display_data"
    }
   ],
   "source": [
    "# Variables representing the number of candies collected by alice, bob, and carol\n",
    "alice_candies = 121\n",
    "bob_candies = 77\n",
    "carol_candies = 109\n",
    "\n",
    "# Your code goes here! Replace the right-hand side of this assignment with an expression\n",
    "# involving alice_candies, bob_candies, and carol_candies\n",
    "total = alice_candies + bob_candies + carol_candies\n",
    "\n",
    "to_smash = total % 3\n",
    "\n",
    "# Check your answer\n",
    "q4.check()"
   ]
  },
  {
   "cell_type": "code",
   "execution_count": null,
   "id": "19647423",
   "metadata": {
    "papermill": {
     "duration": 0.011564,
     "end_time": "2023-05-15T01:42:46.905588",
     "exception": false,
     "start_time": "2023-05-15T01:42:46.894024",
     "status": "completed"
    },
    "tags": []
   },
   "outputs": [],
   "source": []
  },
  {
   "cell_type": "code",
   "execution_count": 17,
   "id": "50b97b65",
   "metadata": {
    "execution": {
     "iopub.execute_input": "2023-05-15T01:42:46.931502Z",
     "iopub.status.busy": "2023-05-15T01:42:46.930314Z",
     "iopub.status.idle": "2023-05-15T01:42:46.935133Z",
     "shell.execute_reply": "2023-05-15T01:42:46.934346Z"
    },
    "papermill": {
     "duration": 0.020436,
     "end_time": "2023-05-15T01:42:46.937233",
     "exception": false,
     "start_time": "2023-05-15T01:42:46.916797",
     "status": "completed"
    },
    "tags": []
   },
   "outputs": [],
   "source": [
    "#q4.hint()\n",
    "#q4.solution()"
   ]
  },
  {
   "cell_type": "markdown",
   "id": "ce6ae08d",
   "metadata": {
    "papermill": {
     "duration": 0.010973,
     "end_time": "2023-05-15T01:42:46.959709",
     "exception": false,
     "start_time": "2023-05-15T01:42:46.948736",
     "status": "completed"
    },
    "tags": []
   },
   "source": [
    "# Keep Going\n",
    "\n",
    "Next up, you'll **[learn to write new functions and understand functions others write](https://www.kaggle.com/colinmorris/functions-and-getting-help)**. This will make you at least 10 times more productive as a Python programmer. "
   ]
  },
  {
   "cell_type": "markdown",
   "id": "3fb7d420",
   "metadata": {
    "papermill": {
     "duration": 0.010895,
     "end_time": "2023-05-15T01:42:46.981917",
     "exception": false,
     "start_time": "2023-05-15T01:42:46.971022",
     "status": "completed"
    },
    "tags": []
   },
   "source": [
    "---\n",
    "\n",
    "\n",
    "\n",
    "\n",
    "*Have questions or comments? Visit the [course discussion forum](https://www.kaggle.com/learn/python/discussion) to chat with other learners.*"
   ]
  }
 ],
 "metadata": {
  "kernelspec": {
   "display_name": "Python 3",
   "language": "python",
   "name": "python3"
  },
  "language_info": {
   "codemirror_mode": {
    "name": "ipython",
    "version": 3
   },
   "file_extension": ".py",
   "mimetype": "text/x-python",
   "name": "python",
   "nbconvert_exporter": "python",
   "pygments_lexer": "ipython3",
   "version": "3.10.10"
  },
  "papermill": {
   "default_parameters": {},
   "duration": 13.481276,
   "end_time": "2023-05-15T01:42:47.816273",
   "environment_variables": {},
   "exception": null,
   "input_path": "__notebook__.ipynb",
   "output_path": "__notebook__.ipynb",
   "parameters": {},
   "start_time": "2023-05-15T01:42:34.334997",
   "version": "2.4.0"
  }
 },
 "nbformat": 4,
 "nbformat_minor": 5
}
