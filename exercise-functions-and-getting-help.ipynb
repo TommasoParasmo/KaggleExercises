{
 "cells": [
  {
   "cell_type": "markdown",
   "id": "9db0fd8e",
   "metadata": {
    "papermill": {
     "duration": 0.007149,
     "end_time": "2023-05-15T02:35:20.507331",
     "exception": false,
     "start_time": "2023-05-15T02:35:20.500182",
     "status": "completed"
    },
    "tags": []
   },
   "source": [
    "**This notebook is an exercise in the [Python](https://www.kaggle.com/learn/python) course.  You can reference the tutorial at [this link](https://www.kaggle.com/colinmorris/functions-and-getting-help).**\n",
    "\n",
    "---\n"
   ]
  },
  {
   "cell_type": "markdown",
   "id": "98b7f44b",
   "metadata": {
    "papermill": {
     "duration": 0.006095,
     "end_time": "2023-05-15T02:35:20.520812",
     "exception": false,
     "start_time": "2023-05-15T02:35:20.514717",
     "status": "completed"
    },
    "tags": []
   },
   "source": [
    "Functions are powerful. Try writing some yourself.\n",
    "\n",
    "As before, don't forget to run the setup code below before jumping into question 1."
   ]
  },
  {
   "cell_type": "code",
   "execution_count": 1,
   "id": "f903f3c4",
   "metadata": {
    "_kg_hide-input": true,
    "_kg_hide-output": true,
    "execution": {
     "iopub.execute_input": "2023-05-15T02:35:20.535138Z",
     "iopub.status.busy": "2023-05-15T02:35:20.534689Z",
     "iopub.status.idle": "2023-05-15T02:35:20.593475Z",
     "shell.execute_reply": "2023-05-15T02:35:20.592226Z"
    },
    "papermill": {
     "duration": 0.069426,
     "end_time": "2023-05-15T02:35:20.596422",
     "exception": false,
     "start_time": "2023-05-15T02:35:20.526996",
     "status": "completed"
    },
    "tags": []
   },
   "outputs": [
    {
     "name": "stdout",
     "output_type": "stream",
     "text": [
      "Setup complete.\n"
     ]
    }
   ],
   "source": [
    "# SETUP. You don't need to worry for now about what this code does or how it works.\n",
    "from learntools.core import binder; binder.bind(globals())\n",
    "from learntools.python.ex2 import *\n",
    "print('Setup complete.')"
   ]
  },
  {
   "cell_type": "markdown",
   "id": "224b29bb",
   "metadata": {
    "papermill": {
     "duration": 0.006036,
     "end_time": "2023-05-15T02:35:20.608857",
     "exception": false,
     "start_time": "2023-05-15T02:35:20.602821",
     "status": "completed"
    },
    "tags": []
   },
   "source": [
    "# 1.\n",
    "\n",
    "Complete the body of the following function according to its docstring.\n",
    "\n",
    "HINT: Python has a built-in function `round`."
   ]
  },
  {
   "cell_type": "code",
   "execution_count": 2,
   "id": "f906ad0b",
   "metadata": {
    "execution": {
     "iopub.execute_input": "2023-05-15T02:35:20.624207Z",
     "iopub.status.busy": "2023-05-15T02:35:20.623753Z",
     "iopub.status.idle": "2023-05-15T02:35:20.636837Z",
     "shell.execute_reply": "2023-05-15T02:35:20.635475Z"
    },
    "papermill": {
     "duration": 0.024269,
     "end_time": "2023-05-15T02:35:20.639757",
     "exception": false,
     "start_time": "2023-05-15T02:35:20.615488",
     "status": "completed"
    },
    "tags": []
   },
   "outputs": [
    {
     "data": {
      "application/javascript": [
       "parent.postMessage({\"jupyterEvent\": \"custom.exercise_interaction\", \"data\": {\"outcomeType\": 1, \"valueTowardsCompletion\": 0.16666666666666666, \"interactionType\": 1, \"questionType\": 2, \"questionId\": \"1_RoundFunctionProblem\", \"learnToolsVersion\": \"0.3.4\", \"failureMessage\": \"\", \"exceptionClass\": \"\", \"trace\": \"\"}}, \"*\")"
      ],
      "text/plain": [
       "<IPython.core.display.Javascript object>"
      ]
     },
     "metadata": {},
     "output_type": "display_data"
    },
    {
     "data": {
      "text/markdown": [
       "<span style=\"color:#33cc33\">Correct</span>"
      ],
      "text/plain": [
       "Correct"
      ]
     },
     "metadata": {},
     "output_type": "display_data"
    }
   ],
   "source": [
    "def round_to_two_places(num):\n",
    "    a = round(num,2)\n",
    "    return a\n",
    "    # Replace this body with your own code.\n",
    "    # (\"pass\" is a keyword that does literally nothing. We used it as a placeholder\n",
    "    # because after we begin a code block, Python requires at least one line of code)\n",
    "    \n",
    "    pass\n",
    "\n",
    "# Check your answer\n",
    "q1.check()"
   ]
  },
  {
   "cell_type": "code",
   "execution_count": 3,
   "id": "5db01478",
   "metadata": {
    "execution": {
     "iopub.execute_input": "2023-05-15T02:35:20.656933Z",
     "iopub.status.busy": "2023-05-15T02:35:20.656488Z",
     "iopub.status.idle": "2023-05-15T02:35:20.660565Z",
     "shell.execute_reply": "2023-05-15T02:35:20.659642Z"
    },
    "papermill": {
     "duration": 0.016115,
     "end_time": "2023-05-15T02:35:20.663175",
     "exception": false,
     "start_time": "2023-05-15T02:35:20.647060",
     "status": "completed"
    },
    "tags": []
   },
   "outputs": [],
   "source": [
    "# Uncomment the following for a hint\n",
    "#q1.hint()\n",
    "# Or uncomment the following to peek at the solution\n",
    "#q1.solution()"
   ]
  },
  {
   "cell_type": "markdown",
   "id": "a882dc1e",
   "metadata": {
    "papermill": {
     "duration": 0.006914,
     "end_time": "2023-05-15T02:35:20.676921",
     "exception": false,
     "start_time": "2023-05-15T02:35:20.670007",
     "status": "completed"
    },
    "tags": []
   },
   "source": [
    "# 2.\n",
    "The help for `round` says that `ndigits` (the second argument) may be negative.\n",
    "What do you think will happen when it is? Try some examples in the following cell."
   ]
  },
  {
   "cell_type": "code",
   "execution_count": 4,
   "id": "4f88069d",
   "metadata": {
    "execution": {
     "iopub.execute_input": "2023-05-15T02:35:20.693233Z",
     "iopub.status.busy": "2023-05-15T02:35:20.692776Z",
     "iopub.status.idle": "2023-05-15T02:35:20.700492Z",
     "shell.execute_reply": "2023-05-15T02:35:20.698665Z"
    },
    "papermill": {
     "duration": 0.019016,
     "end_time": "2023-05-15T02:35:20.702857",
     "exception": false,
     "start_time": "2023-05-15T02:35:20.683841",
     "status": "completed"
    },
    "tags": []
   },
   "outputs": [
    {
     "name": "stdout",
     "output_type": "stream",
     "text": [
      "124570\n",
      "124600\n"
     ]
    }
   ],
   "source": [
    "a = 124567\n",
    "\n",
    "print(round(a,-1))\n",
    "print(round(a,-2))\n",
    "\n",
    "# Put your test code here"
   ]
  },
  {
   "cell_type": "markdown",
   "id": "0176b944",
   "metadata": {
    "papermill": {
     "duration": 0.007118,
     "end_time": "2023-05-15T02:35:20.716831",
     "exception": false,
     "start_time": "2023-05-15T02:35:20.709713",
     "status": "completed"
    },
    "tags": []
   },
   "source": [
    "Can you think of a case where this would be useful?  Once you're ready, run the code cell below to see the answer and to receive credit for completing the problem."
   ]
  },
  {
   "cell_type": "code",
   "execution_count": 5,
   "id": "6e39b272",
   "metadata": {
    "execution": {
     "iopub.execute_input": "2023-05-15T02:35:20.733436Z",
     "iopub.status.busy": "2023-05-15T02:35:20.732946Z",
     "iopub.status.idle": "2023-05-15T02:35:20.741211Z",
     "shell.execute_reply": "2023-05-15T02:35:20.739883Z"
    },
    "papermill": {
     "duration": 0.01962,
     "end_time": "2023-05-15T02:35:20.743685",
     "exception": false,
     "start_time": "2023-05-15T02:35:20.724065",
     "status": "completed"
    },
    "tags": []
   },
   "outputs": [
    {
     "data": {
      "application/javascript": [
       "parent.postMessage({\"jupyterEvent\": \"custom.exercise_interaction\", \"data\": {\"interactionType\": 3, \"questionType\": 4, \"questionId\": \"2_RoundNdigitsProblem\", \"learnToolsVersion\": \"0.3.4\", \"valueTowardsCompletion\": 0.0, \"failureMessage\": \"\", \"exceptionClass\": \"\", \"trace\": \"\", \"outcomeType\": 4}}, \"*\")"
      ],
      "text/plain": [
       "<IPython.core.display.Javascript object>"
      ]
     },
     "metadata": {},
     "output_type": "display_data"
    },
    {
     "data": {
      "text/markdown": [
       "<span style=\"color:#33cc99\">Solution:</span> As you've seen, `ndigits=-1` rounds to the nearest 10, `ndigits=-2` rounds to the nearest 100 and so on. Where might this be useful? Suppose we're dealing with large numbers:\n",
       "\n",
       "> The area of Finland is 338,424 km²  \n",
       "> The area of Greenland is 2,166,086 km²\n",
       "\n",
       "We probably don't care whether it's really 338,424, or 338,425, or 338,177. All those digits of accuracy are just distracting. We can chop them off by calling `round()` with `ndigits=-3`:\n",
       "\n",
       "> The area of Finland is 338,000 km²  \n",
       "> The area of Greenland is 2,166,000 km²\n",
       "\n",
       "(We'll talk about how we would get the commas later when we talk about string formatting :))\n"
      ],
      "text/plain": [
       "Solution: As you've seen, `ndigits=-1` rounds to the nearest 10, `ndigits=-2` rounds to the nearest 100 and so on. Where might this be useful? Suppose we're dealing with large numbers:\n",
       "\n",
       "> The area of Finland is 338,424 km²  \n",
       "> The area of Greenland is 2,166,086 km²\n",
       "\n",
       "We probably don't care whether it's really 338,424, or 338,425, or 338,177. All those digits of accuracy are just distracting. We can chop them off by calling `round()` with `ndigits=-3`:\n",
       "\n",
       "> The area of Finland is 338,000 km²  \n",
       "> The area of Greenland is 2,166,000 km²\n",
       "\n",
       "(We'll talk about how we would get the commas later when we talk about string formatting :))"
      ]
     },
     "metadata": {},
     "output_type": "display_data"
    }
   ],
   "source": [
    "# Check your answer (Run this code cell to receive credit!)\n",
    "q2.solution()"
   ]
  },
  {
   "cell_type": "markdown",
   "id": "ddeec096",
   "metadata": {
    "papermill": {
     "duration": 0.006958,
     "end_time": "2023-05-15T02:35:20.757818",
     "exception": false,
     "start_time": "2023-05-15T02:35:20.750860",
     "status": "completed"
    },
    "tags": []
   },
   "source": [
    "# 3.\n",
    "\n",
    "In the previous exercise, the candy-sharing friends Alice, Bob and Carol tried to split candies evenly. For the sake of their friendship, any candies left over would be smashed. For example, if they collectively bring home 91 candies, they'll take 30 each and smash 1.\n",
    "\n",
    "Below is a simple function that will calculate the number of candies to smash for *any* number of total candies.\n",
    "\n",
    "Modify it so that it optionally takes a second argument representing the number of friends the candies are being split between. If no second argument is provided, it should assume 3 friends, as before.\n",
    "\n",
    "Update the docstring to reflect this new behaviour."
   ]
  },
  {
   "cell_type": "code",
   "execution_count": 6,
   "id": "dc76686e",
   "metadata": {
    "execution": {
     "iopub.execute_input": "2023-05-15T02:35:20.774338Z",
     "iopub.status.busy": "2023-05-15T02:35:20.773836Z",
     "iopub.status.idle": "2023-05-15T02:35:20.784872Z",
     "shell.execute_reply": "2023-05-15T02:35:20.783650Z"
    },
    "papermill": {
     "duration": 0.022778,
     "end_time": "2023-05-15T02:35:20.787624",
     "exception": false,
     "start_time": "2023-05-15T02:35:20.764846",
     "status": "completed"
    },
    "tags": []
   },
   "outputs": [
    {
     "data": {
      "application/javascript": [
       "parent.postMessage({\"jupyterEvent\": \"custom.exercise_interaction\", \"data\": {\"outcomeType\": 1, \"valueTowardsCompletion\": 0.16666666666666666, \"interactionType\": 1, \"questionType\": 2, \"questionId\": \"3_CandySmashingFunctionProblem\", \"learnToolsVersion\": \"0.3.4\", \"failureMessage\": \"\", \"exceptionClass\": \"\", \"trace\": \"\"}}, \"*\")"
      ],
      "text/plain": [
       "<IPython.core.display.Javascript object>"
      ]
     },
     "metadata": {},
     "output_type": "display_data"
    },
    {
     "data": {
      "text/markdown": [
       "<span style=\"color:#33cc33\">Correct</span>"
      ],
      "text/plain": [
       "Correct"
      ]
     },
     "metadata": {},
     "output_type": "display_data"
    }
   ],
   "source": [
    "def to_smash(total_candies, number_friends = 3):\n",
    "    \n",
    "    return total_candies % number_friends\n",
    "\n",
    "# Check your answer\n",
    "q3.check()"
   ]
  },
  {
   "cell_type": "code",
   "execution_count": null,
   "id": "9c435e1c",
   "metadata": {
    "papermill": {
     "duration": 0.007685,
     "end_time": "2023-05-15T02:35:20.803635",
     "exception": false,
     "start_time": "2023-05-15T02:35:20.795950",
     "status": "completed"
    },
    "tags": []
   },
   "outputs": [],
   "source": []
  },
  {
   "cell_type": "code",
   "execution_count": 7,
   "id": "9351822f",
   "metadata": {
    "execution": {
     "iopub.execute_input": "2023-05-15T02:35:20.821500Z",
     "iopub.status.busy": "2023-05-15T02:35:20.821025Z",
     "iopub.status.idle": "2023-05-15T02:35:20.826505Z",
     "shell.execute_reply": "2023-05-15T02:35:20.824967Z"
    },
    "papermill": {
     "duration": 0.017729,
     "end_time": "2023-05-15T02:35:20.829164",
     "exception": false,
     "start_time": "2023-05-15T02:35:20.811435",
     "status": "completed"
    },
    "tags": []
   },
   "outputs": [],
   "source": [
    "#q3.hint()"
   ]
  },
  {
   "cell_type": "code",
   "execution_count": 8,
   "id": "e0da88da",
   "metadata": {
    "execution": {
     "iopub.execute_input": "2023-05-15T02:35:20.847097Z",
     "iopub.status.busy": "2023-05-15T02:35:20.846629Z",
     "iopub.status.idle": "2023-05-15T02:35:20.851819Z",
     "shell.execute_reply": "2023-05-15T02:35:20.850483Z"
    },
    "papermill": {
     "duration": 0.017449,
     "end_time": "2023-05-15T02:35:20.854678",
     "exception": false,
     "start_time": "2023-05-15T02:35:20.837229",
     "status": "completed"
    },
    "tags": []
   },
   "outputs": [],
   "source": [
    "#q3.solution()"
   ]
  },
  {
   "cell_type": "markdown",
   "id": "5b5871ba",
   "metadata": {
    "papermill": {
     "duration": 0.007294,
     "end_time": "2023-05-15T02:35:20.869710",
     "exception": false,
     "start_time": "2023-05-15T02:35:20.862416",
     "status": "completed"
    },
    "tags": []
   },
   "source": [
    "# 4. (Optional)\n",
    "\n",
    "It may not be fun, but reading and understanding error messages will be an important part of your Python career.\n",
    "\n",
    "Each code cell below contains some commented buggy code. For each cell...\n",
    "\n",
    "1. Read the code and predict what you think will happen when it's run.\n",
    "2. Then uncomment the code and run it to see what happens. (**Tip**: In the kernel editor, you can highlight several lines and press `ctrl`+`/` to toggle commenting.)\n",
    "3. Fix the code (so that it accomplishes its intended purpose without throwing an exception)\n",
    "\n",
    "<!-- TODO: should this be autochecked? Delta is probably pretty small. -->"
   ]
  },
  {
   "cell_type": "code",
   "execution_count": 9,
   "id": "e745aee8",
   "metadata": {
    "execution": {
     "iopub.execute_input": "2023-05-15T02:35:20.887537Z",
     "iopub.status.busy": "2023-05-15T02:35:20.887126Z",
     "iopub.status.idle": "2023-05-15T02:35:20.892350Z",
     "shell.execute_reply": "2023-05-15T02:35:20.890862Z"
    },
    "papermill": {
     "duration": 0.017762,
     "end_time": "2023-05-15T02:35:20.895002",
     "exception": false,
     "start_time": "2023-05-15T02:35:20.877240",
     "status": "completed"
    },
    "tags": []
   },
   "outputs": [],
   "source": [
    "# ruound_to_two_places(9.9999)"
   ]
  },
  {
   "cell_type": "code",
   "execution_count": 10,
   "id": "16bc7e67",
   "metadata": {
    "execution": {
     "iopub.execute_input": "2023-05-15T02:35:20.913179Z",
     "iopub.status.busy": "2023-05-15T02:35:20.912193Z",
     "iopub.status.idle": "2023-05-15T02:35:20.917182Z",
     "shell.execute_reply": "2023-05-15T02:35:20.916059Z"
    },
    "papermill": {
     "duration": 0.01671,
     "end_time": "2023-05-15T02:35:20.919579",
     "exception": false,
     "start_time": "2023-05-15T02:35:20.902869",
     "status": "completed"
    },
    "tags": []
   },
   "outputs": [],
   "source": [
    "# x = -10\n",
    "# y = 5\n",
    "# # Which of the two variables above has the smallest absolute value?\n",
    "# smallest_abs = min(abs(x, y))"
   ]
  },
  {
   "cell_type": "code",
   "execution_count": 11,
   "id": "53376ce1",
   "metadata": {
    "execution": {
     "iopub.execute_input": "2023-05-15T02:35:20.937017Z",
     "iopub.status.busy": "2023-05-15T02:35:20.936641Z",
     "iopub.status.idle": "2023-05-15T02:35:20.941284Z",
     "shell.execute_reply": "2023-05-15T02:35:20.940149Z"
    },
    "papermill": {
     "duration": 0.016459,
     "end_time": "2023-05-15T02:35:20.943626",
     "exception": false,
     "start_time": "2023-05-15T02:35:20.927167",
     "status": "completed"
    },
    "tags": []
   },
   "outputs": [],
   "source": [
    "# def f(x):\n",
    "#     y = abs(x)\n",
    "# return y\n",
    "\n",
    "# print(f(5))"
   ]
  },
  {
   "cell_type": "markdown",
   "id": "1c7a4373",
   "metadata": {
    "papermill": {
     "duration": 0.007414,
     "end_time": "2023-05-15T02:35:20.958942",
     "exception": false,
     "start_time": "2023-05-15T02:35:20.951528",
     "status": "completed"
    },
    "tags": []
   },
   "source": [
    "# Keep Going\n",
    "\n",
    "Nice job with the code. Next up, you'll learn about *conditionals*, which you'll need to **[write interesting programs](https://www.kaggle.com/colinmorris/booleans-and-conditionals)**. "
   ]
  },
  {
   "cell_type": "markdown",
   "id": "50d0c80c",
   "metadata": {
    "papermill": {
     "duration": 0.007423,
     "end_time": "2023-05-15T02:35:20.974161",
     "exception": false,
     "start_time": "2023-05-15T02:35:20.966738",
     "status": "completed"
    },
    "tags": []
   },
   "source": [
    "---\n",
    "\n",
    "\n",
    "\n",
    "\n",
    "*Have questions or comments? Visit the [course discussion forum](https://www.kaggle.com/learn/python/discussion) to chat with other learners.*"
   ]
  }
 ],
 "metadata": {
  "kernelspec": {
   "display_name": "Python 3",
   "language": "python",
   "name": "python3"
  },
  "language_info": {
   "codemirror_mode": {
    "name": "ipython",
    "version": 3
   },
   "file_extension": ".py",
   "mimetype": "text/x-python",
   "name": "python",
   "nbconvert_exporter": "python",
   "pygments_lexer": "ipython3",
   "version": "3.10.10"
  },
  "papermill": {
   "default_parameters": {},
   "duration": 15.490301,
   "end_time": "2023-05-15T02:35:22.306568",
   "environment_variables": {},
   "exception": null,
   "input_path": "__notebook__.ipynb",
   "output_path": "__notebook__.ipynb",
   "parameters": {},
   "start_time": "2023-05-15T02:35:06.816267",
   "version": "2.4.0"
  }
 },
 "nbformat": 4,
 "nbformat_minor": 5
}
